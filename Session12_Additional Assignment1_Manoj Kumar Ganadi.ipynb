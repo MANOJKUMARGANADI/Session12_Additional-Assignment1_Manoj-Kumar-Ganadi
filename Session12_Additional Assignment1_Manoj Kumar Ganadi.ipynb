{
 "cells": [
  {
   "cell_type": "raw",
   "metadata": {},
   "source": [
    "Problem Statement 1: [50 marks]\n",
    "A company manufactures LED bulbs with a faulty rate of 30%. If I randomly select 6 chosen LEDs, what is the probability of having 2 faulty LEDs in my sample? Calculate the average value of this process. Also evaluate the standard deviation associated with it."
   ]
  },
  {
   "cell_type": "raw",
   "metadata": {},
   "source": [
    "Solution:\n",
    "p = Success = 0.3 ;q = Failure = 0.3\n",
    "1.\tCalculate Mean\n",
    "µ= E(x) =  n. p\n",
    "Where:\n",
    "n = No. of Trials = 6 \n",
    "p = Success ration = 0.\n",
    "Mean     = 6*0.3= 1.8\n",
    "\n",
    "2.\tVariance\n",
    "Var = npq\n",
    "Where:\n",
    "n = No. of Trials = 6 \n",
    "p = Success ratio = 0.7\n",
    "q = Failure ratio= 0.3\n",
    "       = 6*0.7*0.3\n",
    "       = 1.26\n",
    "3.\tStandard Deviation\n",
    "√npq\n",
    "Where:\n",
    "n = No. of Trials = 6 \n",
    "p = Success ratio = 0.7\n",
    "q = Failure ratio= 0.3\n",
    "Standard Deviation = √6*0.7*0.3\n",
    "\t\t             = 1.12\n"
   ]
  },
  {
   "cell_type": "raw",
   "metadata": {},
   "source": [
    "Problem Statement 2: [50 marks]\n",
    "Gaurav and Barakha are both preparing for entrance exams. Gaurav attempts to solve 8 questions per day with a correction rate of 75%, while Barakha averages around 12 questions per day with a correction rate of 45%. What is the probability that each of them will solve 5 questions correctly? What happens in cases of 4 and 6 correct solutions? What do you infer from it? What are the two main governing factors affecting their ability to solve questions correctly? Give a pictorial representation of the same to validate your answer."
   ]
  },
  {
   "cell_type": "raw",
   "metadata": {},
   "source": [
    "Gaurav:\n",
    "n = 8\n",
    "p = 0.75\n",
    "q = 0.25\n",
    "\n",
    "Barakha:\n",
    "n = 12\n",
    "p = 0.45\n",
    "q = 0.55\n",
    "\n",
    "problem of each solving 5 questions correctly\n",
    "p=G5.B5\n",
    " =8c5*(75)^5*(25)^3.12c5*(45)^5*(55)^7\n",
    " =0.212*0.214\n",
    " =0.045\n",
    "Problem of each solving 4 questions correctly\n",
    "    =0.0896*0.1624\n",
    "    =0.0145\n",
    "Problem of each solving 6 questions correctly\n",
    "    =0.3115*0.2124\n",
    "    =0.0661\n",
    "    \n",
    "Probability is increasing with number of correct questions."
   ]
  },
  {
   "cell_type": "raw",
   "metadata": {},
   "source": [
    "Problem Statement 3: [100 marks]\n",
    "Customers arrive at a rate of 72 per hour to my shop. What is the probability of 𝑘 customers arriving in 4 minutes? a) 5 customers, b) not more than 3 customers, c) more than 3 customers. Give a pictorial representation of the same to validate your answer."
   ]
  },
  {
   "cell_type": "code",
   "execution_count": null,
   "metadata": {},
   "outputs": [],
   "source": []
  },
  {
   "cell_type": "raw",
   "metadata": {},
   "source": [
    "Problem Statement 4: [100 marks]\n",
    "I work as a data analyst in Aeon Learning Pvt. Ltd. After analyzing data, I make reports, where I have the efficiency of entering 77 words per minute with 6 errors per hour. What is the probability that I will commit 2 errors in a 455-word financial report?\n",
    "What happens when the no. of words increases/decreases (in case of 1000 words, 255 words)? How is the 𝜆 affected? How does it influence the PMF? Give a pictorial representation of the same to validate your answer."
   ]
  },
  {
   "cell_type": "raw",
   "metadata": {},
   "source": [
    "Given Data,\n",
    "77 words per minute \n",
    "6 errors per hour\n",
    "possibility of 2 errors in a 455 words\n",
    "no.of words per hour=77*60\n",
    "                    =4620\n",
    "    µ=errors in 455 words=6/4620*455\n",
    "                         =0.59\n",
    "        p(2)=(e)^-0.59*(0.59)^2/2!\n",
    "            =0.0965\n",
    "In case of 1000 words         \n",
    "µ=6/4620*1000\n",
    " =1.3\n",
    "p(2)=(e)^-1.3*(1.3)^2/2!\n",
    "    =0.23\n",
    "\n",
    "In case of 255 words=0.04\n",
    "\n",
    "Probability of error increase as the no of intervals increases."
   ]
  }
 ],
 "metadata": {
  "kernelspec": {
   "display_name": "Python 3",
   "language": "python",
   "name": "python3"
  },
  "language_info": {
   "codemirror_mode": {
    "name": "ipython",
    "version": 3
   },
   "file_extension": ".py",
   "mimetype": "text/x-python",
   "name": "python",
   "nbconvert_exporter": "python",
   "pygments_lexer": "ipython3",
   "version": "3.7.0"
  }
 },
 "nbformat": 4,
 "nbformat_minor": 2
}
